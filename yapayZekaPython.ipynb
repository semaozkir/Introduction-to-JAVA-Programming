{
  "nbformat": 4,
  "nbformat_minor": 0,
  "metadata": {
    "colab": {
      "provenance": [],
      "authorship_tag": "ABX9TyMWPV8H5fjsHcONs57uF62v",
      "include_colab_link": true
    },
    "kernelspec": {
      "name": "python3",
      "display_name": "Python 3"
    },
    "language_info": {
      "name": "python"
    }
  },
  "cells": [
    {
      "cell_type": "markdown",
      "metadata": {
        "id": "view-in-github",
        "colab_type": "text"
      },
      "source": [
        "<a href=\"https://colab.research.google.com/github/semaozkir/Introduction-to-JAVA-Programming/blob/main/yapayZekaPython.ipynb\" target=\"_parent\"><img src=\"https://colab.research.google.com/assets/colab-badge.svg\" alt=\"Open In Colab\"/></a>"
      ]
    },
    {
      "cell_type": "code",
      "execution_count": null,
      "metadata": {
        "colab": {
          "base_uri": "https://localhost:8080/"
        },
        "id": "HtmNR9TN1nqv",
        "outputId": "1ae52b82-5a9f-4dc1-a440-f0f832883ead"
      },
      "outputs": [
        {
          "output_type": "stream",
          "name": "stdout",
          "text": [
            "10\n",
            "15\n"
          ]
        }
      ],
      "source": [
        "# bu benim ilk comment im\n",
        "# degisken - variable\n",
        "# integer(tamsayi) degisken- variable\n",
        "tamsayi_degiskeni = 10 # 10 tamsayisi icin bir degisken tanimladim, bu degiskenin ismi tamsayi_degiskeni\n",
        "tamsayi_degiskeni2 = 15\n",
        "print(tamsayi_degiskeni)\n",
        "print(tamsayi_degiskeni2)"
      ]
    },
    {
      "cell_type": "code",
      "source": [
        "# kesirli sayi - float\n",
        "kesirlisayi_degisken = 10.5\n",
        "print(kesirlisayi_degisken)"
      ],
      "metadata": {
        "colab": {
          "base_uri": "https://localhost:8080/"
        },
        "id": "QPdI2Mxy4Gfe",
        "outputId": "a1d6c67c-caa6-4004-c931-abb1f2d33d83"
      },
      "execution_count": null,
      "outputs": [
        {
          "output_type": "stream",
          "name": "stdout",
          "text": [
            "10.5\n"
          ]
        }
      ]
    },
    {
      "cell_type": "markdown",
      "source": [
        "4 işlem özelliği"
      ],
      "metadata": {
        "id": "uIZxrCOA41yE"
      }
    },
    {
      "cell_type": "code",
      "source": [
        "toplam = tamsayi_degiskeni + tamsayi_degiskeni2\n",
        "carpma = tamsayi_degiskeni * tamsayi_degiskeni2\n",
        "cikarma = tamsayi_degiskeni - tamsayi_degiskeni2\n",
        "bolme = tamsayi_degiskeni / tamsayi_degiskeni2\n",
        "print(toplam)\n",
        "print(carpma)\n",
        "print(cikarma)\n",
        "print(bolme)"
      ],
      "metadata": {
        "colab": {
          "base_uri": "https://localhost:8080/"
        },
        "id": "s2u8pNyM47--",
        "outputId": "82ede9b1-43f9-4c0c-e771-904012c0685b"
      },
      "execution_count": null,
      "outputs": [
        {
          "output_type": "stream",
          "name": "stdout",
          "text": [
            "25\n",
            "150\n",
            "-5\n",
            "0.6666666666666666\n"
          ]
        }
      ]
    },
    {
      "cell_type": "code",
      "source": [
        "metin = \"hello world\" # string - metin\n",
        "print(metin)"
      ],
      "metadata": {
        "colab": {
          "base_uri": "https://localhost:8080/"
        },
        "id": "NehQ0uZt5Zxz",
        "outputId": "96347e74-ceac-48a8-b786-ab329e13daaa"
      },
      "execution_count": null,
      "outputs": [
        {
          "output_type": "stream",
          "name": "stdout",
          "text": [
            "hello world\n"
          ]
        }
      ]
    },
    {
      "cell_type": "code",
      "source": [
        "type(metin)"
      ],
      "metadata": {
        "colab": {
          "base_uri": "https://localhost:8080/"
        },
        "id": "WXSyIzeO506Q",
        "outputId": "e5f5b373-eea5-4cb1-836b-4578c36e55a2"
      },
      "execution_count": null,
      "outputs": [
        {
          "output_type": "execute_result",
          "data": {
            "text/plain": [
              "str"
            ]
          },
          "metadata": {},
          "execution_count": 8
        }
      ]
    },
    {
      "cell_type": "code",
      "source": [
        "metin1 = \"merhaba\"\n",
        "bosluk = \" \"\n",
        "metin2 = \"dunya\"\n",
        "metin1 + bosluk + metin2"
      ],
      "metadata": {
        "colab": {
          "base_uri": "https://localhost:8080/",
          "height": 36
        },
        "id": "EFV98CHN59eq",
        "outputId": "756d72b4-39f7-46f0-89dc-b1690c8b84bc"
      },
      "execution_count": null,
      "outputs": [
        {
          "output_type": "execute_result",
          "data": {
            "text/plain": [
              "'merhaba dunya'"
            ],
            "application/vnd.google.colaboratory.intrinsic+json": {
              "type": "string"
            }
          },
          "metadata": {},
          "execution_count": 9
        }
      ]
    },
    {
      "cell_type": "code",
      "source": [
        "# f string\n",
        "# elma: 10 tl\n",
        "# armut: 20 tl\n",
        "elma_degisken = 10\n",
        "armut_degisken = 20\n",
        "print(f\"elma: {elma_degisken} tl, armut: {armut_degisken} tl\")\n",
        "print(\"elma: {} tl, armut: {} tl\".format(elma_degisken, armut_degisken))\n",
        "# elma: {elma_degisken} tl, armut: {armut_degisken} tl\n",
        "# elma: 10 tl, armut: 20 tl"
      ],
      "metadata": {
        "colab": {
          "base_uri": "https://localhost:8080/"
        },
        "id": "3Fh23nGp6T7w",
        "outputId": "e51610e7-76c2-45f4-db06-28c442fd758b"
      },
      "execution_count": null,
      "outputs": [
        {
          "output_type": "stream",
          "name": "stdout",
          "text": [
            "elma: 10 tl, armut: 20 tl\n",
            "elma: 10 tl, armut: 20 tl\n"
          ]
        }
      ]
    },
    {
      "cell_type": "markdown",
      "source": [
        "Python Syntax"
      ],
      "metadata": {
        "id": "VM2UJ1Sp74cn"
      }
    },
    {
      "cell_type": "code",
      "source": [
        "temel = 6\n",
        "TEMEL = 7\n",
        "print(temel)\n",
        "print(TEMEL)"
      ],
      "metadata": {
        "colab": {
          "base_uri": "https://localhost:8080/"
        },
        "id": "hVPEpZkZ8iYa",
        "outputId": "d11e8ea8-c207-456e-df04-9b7ef36c39dd"
      },
      "execution_count": null,
      "outputs": [
        {
          "output_type": "stream",
          "name": "stdout",
          "text": [
            "6\n",
            "7\n"
          ]
        }
      ]
    },
    {
      "cell_type": "code",
      "source": [
        "# COMMENT\n",
        "\"\"\"\n",
        " istedigimiz her seyi yazariz kimsade bize karisamaz\n",
        "\"\"\""
      ],
      "metadata": {
        "colab": {
          "base_uri": "https://localhost:8080/",
          "height": 36
        },
        "id": "i0jwLc9G8vE3",
        "outputId": "002e43d4-6a85-43c8-c8d6-ecf20ba1e160"
      },
      "execution_count": null,
      "outputs": [
        {
          "output_type": "execute_result",
          "data": {
            "text/plain": [
              "'\\n istedigimiz her seyi yazariz kimsade bize karisamaz\\n'"
            ],
            "application/vnd.google.colaboratory.intrinsic+json": {
              "type": "string"
            }
          },
          "metadata": {},
          "execution_count": 12
        }
      ]
    },
    {
      "cell_type": "code",
      "source": [
        "print(5) # print = build-in function"
      ],
      "metadata": {
        "colab": {
          "base_uri": "https://localhost:8080/"
        },
        "id": "mqOFjRDG9DjX",
        "outputId": "e796a7ef-9b74-43d8-9c0f-ec249802840c"
      },
      "execution_count": null,
      "outputs": [
        {
          "output_type": "stream",
          "name": "stdout",
          "text": [
            "5\n"
          ]
        }
      ]
    },
    {
      "cell_type": "code",
      "source": [
        "# print = 10"
      ],
      "metadata": {
        "id": "eplTJJWZ9IHq"
      },
      "execution_count": null,
      "outputs": []
    },
    {
      "cell_type": "code",
      "source": [
        "print(5)"
      ],
      "metadata": {
        "colab": {
          "base_uri": "https://localhost:8080/"
        },
        "id": "2YBLa5lD9N1J",
        "outputId": "f9d0b1c4-04e7-4758-a37a-e985bee2540c"
      },
      "execution_count": null,
      "outputs": [
        {
          "output_type": "stream",
          "name": "stdout",
          "text": [
            "5\n"
          ]
        }
      ]
    },
    {
      "cell_type": "markdown",
      "source": [
        "**Fonksiyonlar**"
      ],
      "metadata": {
        "id": "V4Zc2MOM9zof"
      }
    },
    {
      "cell_type": "markdown",
      "source": [
        "\n",
        "*   Kullanıcı Tanımlı Fonksiyonlar (User Defined Function)\n",
        "\n",
        "\n",
        "\n"
      ],
      "metadata": {
        "id": "Uoht1BZ--lzP"
      }
    },
    {
      "cell_type": "code",
      "source": [
        "# dairenin alanını hesaplamak pi*r^2\n",
        "pi = 3.14\n",
        "daire_yaricapi = 3\n",
        "daire_alani = pi*(daire_yaricapi**2)\n",
        "print(daire_alani)"
      ],
      "metadata": {
        "colab": {
          "base_uri": "https://localhost:8080/"
        },
        "id": "nIyFrYXh93oz",
        "outputId": "74b8516f-e727-416f-ceda-32bdb92b1319"
      },
      "execution_count": null,
      "outputs": [
        {
          "output_type": "stream",
          "name": "stdout",
          "text": [
            "28.26\n"
          ]
        }
      ]
    },
    {
      "cell_type": "code",
      "source": [
        "def daireAlaniHesapla(daire_yaricapi = 5): # func ismi yazarken islevi belirtmek lazim\n",
        "  \"\"\"\n",
        "    Description: Bu fonksiyon daire alanini hesaplar.\n",
        "    input parameters: dairenin yaricapi (daire_yaricapi)\n",
        "    output: dairenin alani (daire_alani)\n",
        "  \"\"\"\n",
        "  PI = 3.14\n",
        "  daire_alani = PI*(daire_yaricapi**2)\n",
        "  print(f\"Daire Alani: {daire_alani}\")\n",
        "  return daire_alani"
      ],
      "metadata": {
        "id": "x4ZRWg4i_L4L"
      },
      "execution_count": null,
      "outputs": []
    },
    {
      "cell_type": "code",
      "source": [
        "daireAlaniHesapla()"
      ],
      "metadata": {
        "colab": {
          "base_uri": "https://localhost:8080/"
        },
        "id": "pGo8or___lQ1",
        "outputId": "210de93f-c037-4de3-b6d8-d8df155e4078"
      },
      "execution_count": null,
      "outputs": [
        {
          "output_type": "stream",
          "name": "stdout",
          "text": [
            "Daire Alani: 78.5\n"
          ]
        },
        {
          "output_type": "execute_result",
          "data": {
            "text/plain": [
              "78.5"
            ]
          },
          "metadata": {},
          "execution_count": 18
        }
      ]
    },
    {
      "cell_type": "code",
      "source": [
        "user_input  = input(\"Bir daire yari capi girin: \")\n",
        "print(f\"girilen deger: {user_input} ve bu degerin type: {type(user_input)}\")\n",
        "user_input_int = int(user_input)\n",
        "print(f\"{type(user_input_int)}\")\n",
        "daireAlaniHesapla(user_input_int)"
      ],
      "metadata": {
        "colab": {
          "base_uri": "https://localhost:8080/"
        },
        "id": "DMN-qFAPG71L",
        "outputId": "34d28e64-c44a-417a-bcad-de563cea1d8f"
      },
      "execution_count": null,
      "outputs": [
        {
          "output_type": "stream",
          "name": "stdout",
          "text": [
            "Bir daire yari capi girin: 5\n",
            "girilen deger: 5 ve bu degerin type: <class 'str'>\n",
            "<class 'int'>\n",
            "Daire Alani: 78.5\n"
          ]
        },
        {
          "output_type": "execute_result",
          "data": {
            "text/plain": [
              "78.5"
            ]
          },
          "metadata": {},
          "execution_count": 19
        }
      ]
    },
    {
      "cell_type": "code",
      "source": [
        "daire_alani_hesaplanan1 = daireAlaniHesapla(5)\n",
        "daire_alani_hesaplanan2 = daireAlaniHesapla(3)\n",
        "print(daire_alani_hesaplanan1 + daire_alani_hesaplanan2)"
      ],
      "metadata": {
        "colab": {
          "base_uri": "https://localhost:8080/"
        },
        "id": "34YHBW0gIcSk",
        "outputId": "6126c412-6f40-4ea8-da55-f4abb9211115"
      },
      "execution_count": null,
      "outputs": [
        {
          "output_type": "stream",
          "name": "stdout",
          "text": [
            "Daire Alani: 78.5\n",
            "Daire Alani: 28.26\n",
            "106.76\n"
          ]
        }
      ]
    },
    {
      "cell_type": "code",
      "source": [
        "# daire cevresi hesaplama: 2*pi*r\n",
        "def daireCevresiHesapla(r):\n",
        "  PI = 3.14\n",
        "  daire_cevresi = 2*PI*r\n",
        "  return daire_cevresi"
      ],
      "metadata": {
        "id": "CnQza9IFKPtq"
      },
      "execution_count": null,
      "outputs": []
    },
    {
      "cell_type": "code",
      "source": [
        "daire_cevresi_hesaplanan = daireCevresiHesapla(5)\n",
        "print(f\"hesapladigimiz daire ccevresi: {daire_cevresi_hesaplanan}\")"
      ],
      "metadata": {
        "colab": {
          "base_uri": "https://localhost:8080/"
        },
        "id": "ow8UO3SUMptb",
        "outputId": "516f870c-92ae-495f-bc62-51b7b96c2f2c"
      },
      "execution_count": null,
      "outputs": [
        {
          "output_type": "stream",
          "name": "stdout",
          "text": [
            "hesapladigimiz daire ccevresi: 31.400000000000002\n"
          ]
        }
      ]
    },
    {
      "cell_type": "markdown",
      "source": [
        "Veri tipleri: Liste"
      ],
      "metadata": {
        "id": "IkuzCf1M_h3b"
      }
    },
    {
      "cell_type": "code",
      "source": [
        "liste = [\"sut\", \"yumurta\", \"ekmek\"]\n",
        "liste"
      ],
      "metadata": {
        "colab": {
          "base_uri": "https://localhost:8080/"
        },
        "id": "VNJmMihN_oEL",
        "outputId": "d9de0c50-194c-4e28-e907-8d0a7b8f13e7"
      },
      "execution_count": null,
      "outputs": [
        {
          "output_type": "execute_result",
          "data": {
            "text/plain": [
              "['sut', 'yumurta', 'ekmek']"
            ]
          },
          "metadata": {},
          "execution_count": 23
        }
      ]
    },
    {
      "cell_type": "code",
      "source": [
        "liste_fiyat = [10, 20, 30]\n",
        "print(liste_fiyat)"
      ],
      "metadata": {
        "colab": {
          "base_uri": "https://localhost:8080/"
        },
        "id": "ypB0NB_6_3VG",
        "outputId": "6695f497-0027-4117-c753-791b40235e5f"
      },
      "execution_count": null,
      "outputs": [
        {
          "output_type": "stream",
          "name": "stdout",
          "text": [
            "[10, 20, 30]\n"
          ]
        }
      ]
    },
    {
      "cell_type": "code",
      "source": [
        "type(liste_fiyat)"
      ],
      "metadata": {
        "colab": {
          "base_uri": "https://localhost:8080/"
        },
        "id": "okezwK4hABTI",
        "outputId": "6ae1d9aa-9f30-4d31-cb1d-697592967c42"
      },
      "execution_count": null,
      "outputs": [
        {
          "output_type": "execute_result",
          "data": {
            "text/plain": [
              "list"
            ]
          },
          "metadata": {},
          "execution_count": 25
        }
      ]
    },
    {
      "cell_type": "code",
      "source": [
        "hafta_liste = [\"pazartesi\", \"sali\", \"carsamba\", \"persembe\", \"cuma\", \"cumartesi\", \"pazar\"]\n",
        "print(hafta_liste)"
      ],
      "metadata": {
        "colab": {
          "base_uri": "https://localhost:8080/"
        },
        "id": "JhInYZnwAJg8",
        "outputId": "e8e57514-2e8f-4918-fcab-967fafc2936d"
      },
      "execution_count": null,
      "outputs": [
        {
          "output_type": "stream",
          "name": "stdout",
          "text": [
            "['pazartesi', 'sali', 'carsamba', 'persembe', 'cuma', 'cumartesi', 'pazar']\n"
          ]
        }
      ]
    },
    {
      "cell_type": "code",
      "source": [
        "# indeksleme\n",
        "hafta_liste[len(hafta_liste)-1] # listenin 0'inci indeksi"
      ],
      "metadata": {
        "colab": {
          "base_uri": "https://localhost:8080/",
          "height": 36
        },
        "id": "5bSKyTfcAZ12",
        "outputId": "a9f95f08-3f55-40a6-e285-d015254b1d45"
      },
      "execution_count": null,
      "outputs": [
        {
          "output_type": "execute_result",
          "data": {
            "text/plain": [
              "'pazar'"
            ],
            "application/vnd.google.colaboratory.intrinsic+json": {
              "type": "string"
            }
          },
          "metadata": {},
          "execution_count": 27
        }
      ]
    },
    {
      "cell_type": "code",
      "source": [
        "hafta_liste[-1]"
      ],
      "metadata": {
        "colab": {
          "base_uri": "https://localhost:8080/",
          "height": 36
        },
        "id": "blV8StSCBEzw",
        "outputId": "26cc6d7e-6aeb-4d43-e2ae-bb0bd636399b"
      },
      "execution_count": null,
      "outputs": [
        {
          "output_type": "execute_result",
          "data": {
            "text/plain": [
              "'pazar'"
            ],
            "application/vnd.google.colaboratory.intrinsic+json": {
              "type": "string"
            }
          },
          "metadata": {},
          "execution_count": 28
        }
      ]
    },
    {
      "cell_type": "code",
      "source": [
        "hafta_liste = [\"pazartesi\", \"sali\", \"carsamba\", \"persembe\", \"cuma\", \"cumartesi\", \"pazar\"]"
      ],
      "metadata": {
        "id": "FDjNWckTBt3y"
      },
      "execution_count": null,
      "outputs": []
    },
    {
      "cell_type": "code",
      "source": [
        "# \"pazartesi\", \"sali\", \"carsamba\", \"persembe\"\n",
        "hafta_liste[0:4]"
      ],
      "metadata": {
        "colab": {
          "base_uri": "https://localhost:8080/"
        },
        "id": "qOc6jv6YB3HH",
        "outputId": "445ea247-e72b-408c-b3b2-67e06766fb82"
      },
      "execution_count": null,
      "outputs": [
        {
          "output_type": "execute_result",
          "data": {
            "text/plain": [
              "['pazartesi', 'sali', 'carsamba', 'persembe']"
            ]
          },
          "metadata": {},
          "execution_count": 30
        }
      ]
    },
    {
      "cell_type": "markdown",
      "source": [],
      "metadata": {
        "id": "ZI67_rwUCwvf"
      }
    },
    {
      "cell_type": "code",
      "source": [
        "# \"persembe\", \"cuma\", \"cumartesi\", \"pazar\"\n",
        "print(hafta_liste[3:])\n",
        "print(hafta_liste[3:7])\n",
        "print(hafta_liste[-4:])"
      ],
      "metadata": {
        "colab": {
          "base_uri": "https://localhost:8080/"
        },
        "id": "5yy9pr9UCBOa",
        "outputId": "e429ad66-060e-4770-8b6e-426c7fbf3d70"
      },
      "execution_count": null,
      "outputs": [
        {
          "output_type": "stream",
          "name": "stdout",
          "text": [
            "['persembe', 'cuma', 'cumartesi', 'pazar']\n",
            "['persembe', 'cuma', 'cumartesi', 'pazar']\n",
            "['persembe', 'cuma', 'cumartesi', 'pazar']\n"
          ]
        }
      ]
    },
    {
      "cell_type": "code",
      "source": [
        "#\n",
        "sayi_listesi = [1,3,2,4,6,5]\n",
        "sayi_listesi"
      ],
      "metadata": {
        "colab": {
          "base_uri": "https://localhost:8080/"
        },
        "id": "Cs9NfH1yC3V9",
        "outputId": "faf67c1b-2480-496e-a08c-aae14b2f284f"
      },
      "execution_count": null,
      "outputs": [
        {
          "output_type": "execute_result",
          "data": {
            "text/plain": [
              "[1, 3, 2, 4, 6, 5]"
            ]
          },
          "metadata": {},
          "execution_count": 32
        }
      ]
    },
    {
      "cell_type": "code",
      "source": [
        "sayi_listesi.append(6) # listeye eleman ekleme\n",
        "sayi_listesi"
      ],
      "metadata": {
        "colab": {
          "base_uri": "https://localhost:8080/"
        },
        "id": "qoIzwWauEKZG",
        "outputId": "1ae56cc7-271a-4e70-9249-c89cb52c7704"
      },
      "execution_count": null,
      "outputs": [
        {
          "output_type": "execute_result",
          "data": {
            "text/plain": [
              "[1, 3, 2, 4, 6, 5, 6]"
            ]
          },
          "metadata": {},
          "execution_count": 33
        }
      ]
    },
    {
      "cell_type": "code",
      "source": [
        "sayi_listesi.remove(6) # listeden eleman cikarma\n",
        "sayi_listesi"
      ],
      "metadata": {
        "colab": {
          "base_uri": "https://localhost:8080/"
        },
        "id": "4ykq9XiUERIq",
        "outputId": "6b90780c-c7bc-43db-885e-45fb1adc9fbb"
      },
      "execution_count": null,
      "outputs": [
        {
          "output_type": "execute_result",
          "data": {
            "text/plain": [
              "[1, 3, 2, 4, 5, 6]"
            ]
          },
          "metadata": {},
          "execution_count": 34
        }
      ]
    },
    {
      "cell_type": "code",
      "source": [
        "sayi_listesi.reverse() # listeyi ters cevirme\n",
        "sayi_listesi"
      ],
      "metadata": {
        "colab": {
          "base_uri": "https://localhost:8080/"
        },
        "id": "dnEl-ZzwEmq5",
        "outputId": "30f7a35f-2e0f-4938-f4aa-48b79c95627f"
      },
      "execution_count": null,
      "outputs": [
        {
          "output_type": "execute_result",
          "data": {
            "text/plain": [
              "[6, 5, 4, 2, 3, 1]"
            ]
          },
          "metadata": {},
          "execution_count": 35
        }
      ]
    },
    {
      "cell_type": "code",
      "source": [
        "sayi_listesi.sort()  # kucukten buyuge siralama\n",
        "# sayi_listesi.reverse()\n",
        "sayi_listesi"
      ],
      "metadata": {
        "colab": {
          "base_uri": "https://localhost:8080/"
        },
        "id": "iweNoSYjE-Rd",
        "outputId": "8bf32996-6644-420c-d61a-3406b9da13a3"
      },
      "execution_count": null,
      "outputs": [
        {
          "output_type": "execute_result",
          "data": {
            "text/plain": [
              "[1, 2, 3, 4, 5, 6]"
            ]
          },
          "metadata": {},
          "execution_count": 36
        }
      ]
    },
    {
      "cell_type": "code",
      "source": [
        "liste_deneme = [1,3,2]\n",
        "liste_deneme_sorted = sorted(liste_deneme)  # kucukten buyuge siralama"
      ],
      "metadata": {
        "id": "yL5vU6kTGbN4"
      },
      "execution_count": null,
      "outputs": []
    },
    {
      "cell_type": "code",
      "source": [
        "print(liste_deneme)\n",
        "print(liste_deneme_sorted)"
      ],
      "metadata": {
        "colab": {
          "base_uri": "https://localhost:8080/"
        },
        "id": "p-dRWZuxGt9q",
        "outputId": "bbd72100-19be-483c-9783-7a007129e740"
      },
      "execution_count": null,
      "outputs": [
        {
          "output_type": "stream",
          "name": "stdout",
          "text": [
            "[1, 3, 2]\n",
            "[1, 2, 3]\n"
          ]
        }
      ]
    },
    {
      "cell_type": "markdown",
      "source": [
        "Veri Tipleri: Tuple"
      ],
      "metadata": {
        "id": "liR51eI7Fi1P"
      }
    },
    {
      "cell_type": "code",
      "source": [
        "tuple_sayi = (1,2,3,3,4,5,6)\n",
        "print(tuple_sayi[-2])\n",
        "print(tuple_sayi[1])\n",
        "print(tuple_sayi[1:])\n",
        "print(tuple_sayi.count(3)) # tuple icerisinde bulunan istedigimiz elemani sayma"
      ],
      "metadata": {
        "colab": {
          "base_uri": "https://localhost:8080/"
        },
        "id": "xcLqOTitFnLs",
        "outputId": "0c090724-7020-44ef-8227-89d719ad314a"
      },
      "execution_count": null,
      "outputs": [
        {
          "output_type": "stream",
          "name": "stdout",
          "text": [
            "5\n",
            "2\n",
            "(2, 3, 3, 4, 5, 6)\n",
            "2\n"
          ]
        }
      ]
    },
    {
      "cell_type": "markdown",
      "source": [
        "Veri tipleri: Dictionary\n",
        "\n",
        "*   anahtar-deger: key-value pair\n",
        "\n"
      ],
      "metadata": {
        "id": "G2gXhAiEHWsX"
      }
    },
    {
      "cell_type": "code",
      "source": [
        "dictionary = {\"anahtar\": 10,\n",
        "              \"key\": \"ankara\"}\n",
        "dictionary"
      ],
      "metadata": {
        "colab": {
          "base_uri": "https://localhost:8080/"
        },
        "id": "e1PW69gOHZQX",
        "outputId": "53f6a648-aa05-4eee-f370-925a1e3b1697"
      },
      "execution_count": null,
      "outputs": [
        {
          "output_type": "execute_result",
          "data": {
            "text/plain": [
              "{'anahtar': 10, 'key': 'ankara'}"
            ]
          },
          "metadata": {},
          "execution_count": 40
        }
      ]
    },
    {
      "cell_type": "code",
      "source": [
        "sehirler_plakalar = {\"istanbul\":34, \"izmir\":35, \"Konya\":42}\n",
        "sehirler_plakalar"
      ],
      "metadata": {
        "colab": {
          "base_uri": "https://localhost:8080/"
        },
        "id": "EeU64SDdIDK4",
        "outputId": "45d955bb-ae87-4143-c8b0-5d6db8cd5e68"
      },
      "execution_count": null,
      "outputs": [
        {
          "output_type": "execute_result",
          "data": {
            "text/plain": [
              "{'istanbul': 34, 'izmir': 35, 'Konya': 42}"
            ]
          },
          "metadata": {},
          "execution_count": 41
        }
      ]
    },
    {
      "cell_type": "code",
      "source": [
        "sehirler_plakalar.keys()"
      ],
      "metadata": {
        "colab": {
          "base_uri": "https://localhost:8080/"
        },
        "id": "0i2iMjAZIglh",
        "outputId": "1b1e0dd1-ab0e-4d0a-ae48-a3256e781853"
      },
      "execution_count": null,
      "outputs": [
        {
          "output_type": "execute_result",
          "data": {
            "text/plain": [
              "dict_keys(['istanbul', 'izmir', 'Konya'])"
            ]
          },
          "metadata": {},
          "execution_count": 42
        }
      ]
    },
    {
      "cell_type": "code",
      "source": [
        "sehirler_plakalar.values()"
      ],
      "metadata": {
        "colab": {
          "base_uri": "https://localhost:8080/"
        },
        "id": "x5Ywny16Ip9Y",
        "outputId": "eae6c010-19e3-4dae-ccc1-c7b3ebe2cdca"
      },
      "execution_count": null,
      "outputs": [
        {
          "output_type": "execute_result",
          "data": {
            "text/plain": [
              "dict_values([34, 35, 42])"
            ]
          },
          "metadata": {},
          "execution_count": 43
        }
      ]
    },
    {
      "cell_type": "code",
      "source": [
        "sehirler_plakalar[\"izmir\"]"
      ],
      "metadata": {
        "colab": {
          "base_uri": "https://localhost:8080/"
        },
        "id": "h7i8Do5jI1hC",
        "outputId": "cfaf7981-98fa-46e5-cb28-9ae909f6a70d"
      },
      "execution_count": null,
      "outputs": [
        {
          "output_type": "execute_result",
          "data": {
            "text/plain": [
              "35"
            ]
          },
          "metadata": {},
          "execution_count": 44
        }
      ]
    },
    {
      "cell_type": "code",
      "source": [
        "\"\"\"\n",
        "parameters = {\"weights\":[],\n",
        "              \"bias\":[],\n",
        "              \"learning_rate\": 0,\n",
        "              \"model_name\": \"model1\"}\n",
        "list_parameters = []\n",
        "list_parameters.append(parameters)\n",
        "\"\"\""
      ],
      "metadata": {
        "id": "pAPw7KepI7pX",
        "colab": {
          "base_uri": "https://localhost:8080/",
          "height": 53
        },
        "outputId": "73b34a9f-9e84-45df-cb34-ecad70ab87e7"
      },
      "execution_count": null,
      "outputs": [
        {
          "output_type": "execute_result",
          "data": {
            "text/plain": [
              "'\\nparameters = {\"weights\":[],\\n              \"bias\":[],\\n              \"learning_rate\": 0,\\n              \"model_name\": \"model1\"}\\nlist_parameters = []\\nlist_parameters.append(parameters)\\n'"
            ],
            "application/vnd.google.colaboratory.intrinsic+json": {
              "type": "string"
            }
          },
          "metadata": {},
          "execution_count": 45
        }
      ]
    },
    {
      "cell_type": "markdown",
      "source": [
        "Veri tipleri dönüşümleri"
      ],
      "metadata": {
        "id": "YnvgdO7dNV95"
      }
    },
    {
      "cell_type": "code",
      "source": [
        "metin = \"16\"\n",
        "kesirlisayi = 10.0\n",
        "tamsayi = 10\n",
        "\n",
        "# int tamsayi = 10\n",
        "# float kesirlisayi = 10"
      ],
      "metadata": {
        "id": "kkO8TDlkNZu_"
      },
      "execution_count": null,
      "outputs": []
    },
    {
      "cell_type": "code",
      "source": [
        "# str -> int\n",
        "metin_int = int(metin)\n",
        "print(metin_int)\n",
        "print(type(metin_int))"
      ],
      "metadata": {
        "colab": {
          "base_uri": "https://localhost:8080/"
        },
        "id": "4GVaTHOYNil8",
        "outputId": "ab167d89-42f6-43c5-aa0f-26125c7f0291"
      },
      "execution_count": null,
      "outputs": [
        {
          "output_type": "stream",
          "name": "stdout",
          "text": [
            "16\n",
            "<class 'int'>\n"
          ]
        }
      ]
    },
    {
      "cell_type": "code",
      "source": [
        "# float -> int\n",
        "kesirlisayi_int = int(kesirlisayi)\n",
        "print(kesirlisayi_int)\n",
        "print(type(kesirlisayi_int))"
      ],
      "metadata": {
        "colab": {
          "base_uri": "https://localhost:8080/"
        },
        "id": "z1DVl-OUNw6s",
        "outputId": "25d4a19a-96e0-4217-c1e0-c735b9ebc16c"
      },
      "execution_count": null,
      "outputs": [
        {
          "output_type": "stream",
          "name": "stdout",
          "text": [
            "10\n",
            "<class 'int'>\n"
          ]
        }
      ]
    },
    {
      "cell_type": "code",
      "source": [
        "# float -> str\n",
        "kesirlisayi_str = str(kesirlisayi)\n",
        "kesirlisayi_str"
      ],
      "metadata": {
        "colab": {
          "base_uri": "https://localhost:8080/",
          "height": 36
        },
        "id": "iO1jhpM8N-TP",
        "outputId": "4671cd8a-4ffa-4622-ea58-e7d98e015ab3"
      },
      "execution_count": null,
      "outputs": [
        {
          "output_type": "execute_result",
          "data": {
            "text/plain": [
              "'10.0'"
            ],
            "application/vnd.google.colaboratory.intrinsic+json": {
              "type": "string"
            }
          },
          "metadata": {},
          "execution_count": 49
        }
      ]
    },
    {
      "cell_type": "code",
      "source": [
        "# int -> str\n",
        "tamsayi_str = str(tamsayi)\n",
        "tamsayi_str"
      ],
      "metadata": {
        "colab": {
          "base_uri": "https://localhost:8080/",
          "height": 36
        },
        "id": "sHSQdAThOVnO",
        "outputId": "9d413dff-36ff-4692-fe55-6c15d73712f2"
      },
      "execution_count": null,
      "outputs": [
        {
          "output_type": "execute_result",
          "data": {
            "text/plain": [
              "'10'"
            ],
            "application/vnd.google.colaboratory.intrinsic+json": {
              "type": "string"
            }
          },
          "metadata": {},
          "execution_count": 50
        }
      ]
    },
    {
      "cell_type": "code",
      "source": [
        "# int -> float\n",
        "tamsayi_float = float(tamsayi)\n",
        "tamsayi_float"
      ],
      "metadata": {
        "colab": {
          "base_uri": "https://localhost:8080/"
        },
        "id": "ME3t3AfFOdGC",
        "outputId": "40214973-bb87-4da9-e558-89d71d1ebeda"
      },
      "execution_count": null,
      "outputs": [
        {
          "output_type": "execute_result",
          "data": {
            "text/plain": [
              "10.0"
            ]
          },
          "metadata": {},
          "execution_count": 51
        }
      ]
    },
    {
      "cell_type": "markdown",
      "source": [
        "if-else"
      ],
      "metadata": {
        "id": "flnlpSSXP7wP"
      }
    },
    {
      "cell_type": "code",
      "source": [
        "# eger sayi1 kucuktur sayi2 ise print(sayi1 kucuktur sayi2)\n",
        "sayi1 = 12\n",
        "sayi2 = 22\n",
        "\n",
        "if sayi1 < sayi2: # eger True (dogru) ise if icerisine gir\n",
        "  print(f\"sayi1: {sayi1} kucuktur sayi2: {sayi2}\")\n",
        "elif sayi2 < sayi1:\n",
        "  print(f\"sayi2:{sayi2} kucuktur sayi1:{sayi1}\")\n",
        "else:\n",
        "  print(\"sayilar esit\")"
      ],
      "metadata": {
        "colab": {
          "base_uri": "https://localhost:8080/"
        },
        "id": "TCFzQQb2QDnR",
        "outputId": "a9b30dfc-34a1-4628-c3fd-5d6d94ac993a"
      },
      "execution_count": null,
      "outputs": [
        {
          "output_type": "stream",
          "name": "stdout",
          "text": [
            "sayi1: 12 kucuktur sayi2: 22\n"
          ]
        }
      ]
    },
    {
      "cell_type": "code",
      "source": [
        "# problem: deger listenin icinde mi degil mi?\n",
        "liste = [1, 2, 3, 4, 5]\n",
        "deger = 5\n",
        "\n",
        "if deger in liste:\n",
        "  print(f\"{deger} degeri listenin icinde\")\n",
        "else:\n",
        "  print(f\"{deger} degeri listenin icinde degil\")"
      ],
      "metadata": {
        "colab": {
          "base_uri": "https://localhost:8080/"
        },
        "id": "Mg19P7XwSbZR",
        "outputId": "3af62793-d37f-4fac-be68-8deae4030b5f"
      },
      "execution_count": null,
      "outputs": [
        {
          "output_type": "stream",
          "name": "stdout",
          "text": [
            "5 degeri listenin icinde\n"
          ]
        }
      ]
    },
    {
      "cell_type": "code",
      "source": [
        "# problem: ulke isimleri dictionary icerisinde var mi yok mu anlamaya calismak\n",
        "dictionary = {\"Turkiye\":\"Ankara\", \"Ingiltere\":\"Londra\", \"Almanya\":\"Berlin\"}\n",
        "keys = dictionary.keys()\n",
        "print(keys)\n"
      ],
      "metadata": {
        "colab": {
          "base_uri": "https://localhost:8080/"
        },
        "id": "g_WjqwDiQh_0",
        "outputId": "439bd76e-f1f2-461f-feb6-329f6c615ab9"
      },
      "execution_count": null,
      "outputs": [
        {
          "output_type": "stream",
          "name": "stdout",
          "text": [
            "dict_keys(['Turkiye', 'Ingiltere', 'Almanya'])\n"
          ]
        }
      ]
    },
    {
      "cell_type": "code",
      "source": [
        "deger = \"Ingiltere\"\n",
        "if deger in keys:\n",
        "  print(f\"{deger} degeri sozlukte var\")\n",
        "else:\n",
        "  print(f\"{deger} degeri sozlukte yok\")"
      ],
      "metadata": {
        "colab": {
          "base_uri": "https://localhost:8080/"
        },
        "id": "eJPdWasRTb9U",
        "outputId": "dd1e9dac-2de8-4082-e3c0-17bb0e5081cd"
      },
      "execution_count": null,
      "outputs": [
        {
          "output_type": "stream",
          "name": "stdout",
          "text": [
            "Ingiltere degeri sozlukte var\n"
          ]
        }
      ]
    },
    {
      "cell_type": "code",
      "source": [
        "# liste = haftanin gunleri\n",
        "# eger ptesi gunu listenin icerisinde 2. indexde ise print(ptesi gunu listenin ikinci indeksinde)\n",
        "liste=[\"pazartesi\",\"sali\",\"carsamba\",\"persembe\",\"cuma\",\"cumartesi\",\"pazar\"]\n",
        "\n",
        "if \"pazartesi\"==liste[2]:\n",
        "  print(\"ptase gunu listenin ikinci inkdeksinde\")\n",
        "else:\n",
        "  print(\" değil\")"
      ],
      "metadata": {
        "colab": {
          "base_uri": "https://localhost:8080/"
        },
        "id": "fRYfJHuSTpmO",
        "outputId": "88896147-a019-47bd-f9db-fb36e070b67e"
      },
      "execution_count": null,
      "outputs": [
        {
          "output_type": "stream",
          "name": "stdout",
          "text": [
            " değil\n"
          ]
        }
      ]
    },
    {
      "cell_type": "markdown",
      "source": [
        "**for loop**"
      ],
      "metadata": {
        "id": "3xWBNl6FU5uO"
      }
    },
    {
      "cell_type": "code",
      "source": [
        "for i in range(1,11): # [1,2,3,4,5,6,7,8,9,10]\n",
        "  print(i)"
      ],
      "metadata": {
        "colab": {
          "base_uri": "https://localhost:8080/"
        },
        "id": "vl6_cQ8GU7mK",
        "outputId": "2399ae84-333e-4201-d288-ed89cfa20861"
      },
      "execution_count": null,
      "outputs": [
        {
          "output_type": "stream",
          "name": "stdout",
          "text": [
            "1\n",
            "2\n",
            "3\n",
            "4\n",
            "5\n",
            "6\n",
            "7\n",
            "8\n",
            "9\n",
            "10\n"
          ]
        }
      ]
    },
    {
      "cell_type": "code",
      "source": [
        "for i in [1,2,3,4]:\n",
        "  print(i)"
      ],
      "metadata": {
        "colab": {
          "base_uri": "https://localhost:8080/"
        },
        "id": "P2HlrwOsWBVW",
        "outputId": "6e174207-4df4-4fd1-9465-5de88be4a7d4"
      },
      "execution_count": null,
      "outputs": [
        {
          "output_type": "stream",
          "name": "stdout",
          "text": [
            "1\n",
            "2\n",
            "3\n",
            "4\n"
          ]
        }
      ]
    },
    {
      "cell_type": "code",
      "source": [
        "for i in [1,2,3,4]:\n",
        "  print(i*2)"
      ],
      "metadata": {
        "colab": {
          "base_uri": "https://localhost:8080/"
        },
        "id": "hMNYQBR8VcKC",
        "outputId": "15af655e-1627-4045-a9ae-640641dcc932"
      },
      "execution_count": null,
      "outputs": [
        {
          "output_type": "stream",
          "name": "stdout",
          "text": [
            "2\n",
            "4\n",
            "6\n",
            "8\n"
          ]
        }
      ]
    },
    {
      "cell_type": "code",
      "source": [
        "liste1 = [\"pazartesi\",\"sali\",\"carsamba\",\"persembe\",\"cuma\",\"cumartesi\",\"pazar\"]\n",
        "for i in liste1:\n",
        "  print(i)"
      ],
      "metadata": {
        "colab": {
          "base_uri": "https://localhost:8080/"
        },
        "id": "i9-BFoETWJ23",
        "outputId": "de88e20e-69fc-48fa-bcd8-3c4e6845916f"
      },
      "execution_count": null,
      "outputs": [
        {
          "output_type": "stream",
          "name": "stdout",
          "text": [
            "pazartesi\n",
            "sali\n",
            "carsamba\n",
            "persembe\n",
            "cuma\n",
            "cumartesi\n",
            "pazar\n"
          ]
        }
      ]
    },
    {
      "cell_type": "code",
      "source": [
        "for i in \"pazartesi sali\": # string = karakter dizisi\n",
        "  print(i)"
      ],
      "metadata": {
        "colab": {
          "base_uri": "https://localhost:8080/"
        },
        "id": "Ufg2O6DKWRGr",
        "outputId": "6a268577-513d-4ba8-e4b3-f7a244863c8e"
      },
      "execution_count": null,
      "outputs": [
        {
          "output_type": "stream",
          "name": "stdout",
          "text": [
            "p\n",
            "a\n",
            "z\n",
            "a\n",
            "r\n",
            "t\n",
            "e\n",
            "s\n",
            "i\n",
            " \n",
            "s\n",
            "a\n",
            "l\n",
            "i\n"
          ]
        }
      ]
    },
    {
      "cell_type": "code",
      "source": [
        "liste = [1,2,3,4,5,6,7,8,9]\n",
        "\n",
        "toplam = 0\n",
        "for i in liste:\n",
        "  toplam = toplam + i\n",
        "print(toplam)\n",
        "print(sum(liste))"
      ],
      "metadata": {
        "colab": {
          "base_uri": "https://localhost:8080/"
        },
        "id": "U3KfZk8vWZ_f",
        "outputId": "73250891-b52a-4878-e914-28b2648e0f16"
      },
      "execution_count": null,
      "outputs": [
        {
          "output_type": "stream",
          "name": "stdout",
          "text": [
            "45\n",
            "45\n"
          ]
        }
      ]
    },
    {
      "cell_type": "code",
      "source": [
        "\"\"\"\n",
        "problem: NLP, elimizde str olarak cumle var. mesela: \"Bugün Python Dersimiz Var.\"\n",
        "[\"bugün\", \"python\", \"dersimiz\", \"var.\"]\n",
        "\"\"\"\n",
        "cumle = \"Bugün Python Dersimiz Var.\"\n",
        "liste_cumle = cumle.split()\n",
        "liste_cumle\n"
      ],
      "metadata": {
        "colab": {
          "base_uri": "https://localhost:8080/"
        },
        "id": "jiwvkyeaYztG",
        "outputId": "8a0200cc-d40e-4052-f840-296a92a94155"
      },
      "execution_count": null,
      "outputs": [
        {
          "output_type": "execute_result",
          "data": {
            "text/plain": [
              "['Bugün', 'Python', 'Dersimiz', 'Var.']"
            ]
          },
          "metadata": {},
          "execution_count": 63
        }
      ]
    },
    {
      "cell_type": "code",
      "source": [
        "liste = []\n",
        "for i in liste_cumle:\n",
        "  kelime_kucuk_harf = i.lower()\n",
        "  liste.append(kelime_kucuk_harf)\n",
        "  # print(kelime_kucuk_harf)\n",
        "print(liste)"
      ],
      "metadata": {
        "colab": {
          "base_uri": "https://localhost:8080/"
        },
        "id": "xDBHcGNlaiuK",
        "outputId": "8ab82bc1-4d35-4b79-d886-5aa1a75bb888"
      },
      "execution_count": null,
      "outputs": [
        {
          "output_type": "stream",
          "name": "stdout",
          "text": [
            "['bugün', 'python', 'dersimiz', 'var.']\n"
          ]
        }
      ]
    },
    {
      "cell_type": "code",
      "source": [
        "\"\"\"\n",
        "problem: liste = [1,2,3,4,5,6]\n",
        "fonksiyon\n",
        "  girdi: liste\n",
        "  ciktisi: listenini icersinde bulunan cift sayilarin toplami olacak\n",
        "\"\"\""
      ],
      "metadata": {
        "id": "WR8gBgrxb8LQ",
        "colab": {
          "base_uri": "https://localhost:8080/",
          "height": 36
        },
        "outputId": "6cb13a85-acd5-4951-d158-2ed64eb18997"
      },
      "execution_count": null,
      "outputs": [
        {
          "output_type": "execute_result",
          "data": {
            "text/plain": [
              "'\\nproblem: liste = [1,2,3,4,5,6]\\nfonksiyon\\n  girdi: liste\\n  ciktisi: listenini icersinde bulunan cift sayilarin toplami olacak\\n'"
            ],
            "application/vnd.google.colaboratory.intrinsic+json": {
              "type": "string"
            }
          },
          "metadata": {},
          "execution_count": 65
        }
      ]
    },
    {
      "cell_type": "code",
      "source": [
        "def fonksiyon(liste):\n",
        "  toplam = 0\n",
        "  for i in liste:\n",
        "    if i%2 == 0:  #cift sayi\n",
        "      toplam += i # toplam = toplam + i\n",
        "  return toplam\n",
        "\n",
        "liste=[1,2,3,4,5,6]\n",
        "print(fonksiyon(liste))"
      ],
      "metadata": {
        "colab": {
          "base_uri": "https://localhost:8080/"
        },
        "id": "bEjCP9l2eK0F",
        "outputId": "2b8f364e-4a98-4c2f-92ec-4c30a6e9cf93"
      },
      "execution_count": null,
      "outputs": [
        {
          "output_type": "stream",
          "name": "stdout",
          "text": [
            "12\n"
          ]
        }
      ]
    },
    {
      "cell_type": "markdown",
      "source": [
        "while loop"
      ],
      "metadata": {
        "id": "S588fbZan9_e"
      }
    },
    {
      "cell_type": "code",
      "source": [
        "i = 0\n",
        "while(i < 4):\n",
        "  print(i)\n",
        "  i = i + 1"
      ],
      "metadata": {
        "colab": {
          "base_uri": "https://localhost:8080/"
        },
        "id": "a_fzms6MoAPJ",
        "outputId": "1798d01b-15d1-478a-b7db-844b1e277a29"
      },
      "execution_count": null,
      "outputs": [
        {
          "output_type": "stream",
          "name": "stdout",
          "text": [
            "0\n",
            "1\n",
            "2\n",
            "3\n"
          ]
        }
      ]
    },
    {
      "cell_type": "code",
      "source": [
        "# while ile toplama\n",
        "liste = [1,2,3,4,5,6]\n",
        "i = 0\n",
        "toplam = 0\n",
        "while(i < len(liste)): # len(liste) = 6\n",
        "  toplam = toplam + liste[i]\n",
        "  i = i + 1\n",
        "print(toplam)"
      ],
      "metadata": {
        "colab": {
          "base_uri": "https://localhost:8080/"
        },
        "id": "sMXDbV__ogMF",
        "outputId": "47a04ed4-9d2b-4a78-8b0e-a873c8785f1a"
      },
      "execution_count": null,
      "outputs": [
        {
          "output_type": "stream",
          "name": "stdout",
          "text": [
            "21\n"
          ]
        }
      ]
    }
  ]
}